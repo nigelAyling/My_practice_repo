{
 "cells": [
  {
   "cell_type": "code",
   "execution_count": 5,
   "metadata": {},
   "outputs": [
    {
     "name": "stdout",
     "output_type": "stream",
     "text": [
      "carrot\n",
      "2.5\n",
      "12\n"
     ]
    }
   ],
   "source": [
    "\n",
    "#This is an example of defining a class \"Product\" together with an instance of the class,\n",
    "#prod1.\n",
    "#By convention class names begin with a capital letter.\n",
    "#The set and get function names could be anything but start set_ and get_ by convention.\n",
    "#The set function takes 2 inputs, self is the class name of the instance, and the variable.\n",
    "#In the internal variables self.__description etc the underscores are not part of the name\n",
    "#\n",
    "\n",
    "class Product:\n",
    "    def set_description(self, desc):\n",
    "        self.__description = desc        \n",
    "    def get_description(self):\n",
    "        return self.__description\n",
    "    \n",
    "    def set_price(self,price):\n",
    "        self.price = price\n",
    "    def get_price(self):\n",
    "        return self.price\n",
    "    \n",
    "    def set_inventory(self, inventory):\n",
    "        self.__inventory = inventory\n",
    "    def get_inventory(self):\n",
    "        return self.__inventory\n",
    "    \n",
    "    \n",
    "prod1=Product()\n",
    "prod1.set_description (\"carrot\")\n",
    "prod1.set_price (2.5)\n",
    "prod1.set_inventory (12)\n",
    "\n",
    "print(prod1.get_description())\n",
    "print(prod1.get_price())\n",
    "print(prod1.get_inventory())"
   ]
  },
  {
   "cell_type": "code",
   "execution_count": 1,
   "metadata": {},
   "outputs": [],
   "source": [
    "#"
   ]
  },
  {
   "cell_type": "code",
   "execution_count": null,
   "metadata": {},
   "outputs": [],
   "source": []
  }
 ],
 "metadata": {
  "kernelspec": {
   "display_name": "Python 2",
   "language": "python",
   "name": "python2"
  },
  "language_info": {
   "codemirror_mode": {
    "name": "ipython",
    "version": 2
   },
   "file_extension": ".py",
   "mimetype": "text/x-python",
   "name": "python",
   "nbconvert_exporter": "python",
   "pygments_lexer": "ipython2",
   "version": "2.7.16"
  }
 },
 "nbformat": 4,
 "nbformat_minor": 2
}
