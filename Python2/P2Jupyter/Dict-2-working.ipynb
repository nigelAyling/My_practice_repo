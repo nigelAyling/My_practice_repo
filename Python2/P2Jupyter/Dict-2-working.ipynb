{
 "cells": [
  {
   "cell_type": "code",
   "execution_count": 4,
   "metadata": {},
   "outputs": [],
   "source": [
    "import pickle\n",
    "\n",
    "pricelist={}"
   ]
  },
  {
   "cell_type": "code",
   "execution_count": 5,
   "metadata": {},
   "outputs": [],
   "source": [
    "def makedic2(prices):\n",
    "    \n",
    "    getout=\"\"\n",
    "    \n",
    "    \n",
    "    while getout!=\"q\" and getout!=\"Q\":\n",
    "        print getout\n",
    "        product=raw_input(\"M2222 Enter the product name  \")\n",
    "        \n",
    "        while True:\n",
    "            try:\n",
    "                price=float(raw_input(\"Enter the product price  \"))\n",
    "                break\n",
    "            except ValueError:\n",
    "                print (\"That was not a number\")\n",
    "            \n",
    "        \n",
    "        getout=raw_input(\"To quit enter Q  \")\n",
    "        \n",
    "        prices.update({product:price})\n",
    "    \n",
    "    output = open('pricefile.pkl', 'wb')\n",
    "    pickle.dump(prices, output)\n",
    "    output.close()\n",
    "        \n",
    "    return prices"
   ]
  },
  {
   "cell_type": "code",
   "execution_count": null,
   "metadata": {
    "scrolled": true
   },
   "outputs": [],
   "source": [
    "\n",
    "\n",
    "plist=pricelist\n",
    "print (plist)\n",
    "\n",
    "mydic=makedic2(plist)\n",
    "\n",
    "\n",
    "print (\"This is my dictionary \")\n",
    "print mydic\n",
    "print (\"This is pricelist\")\n",
    "print pricelist"
   ]
  },
  {
   "cell_type": "code",
   "execution_count": null,
   "metadata": {},
   "outputs": [],
   "source": [
    "\n"
   ]
  },
  {
   "cell_type": "code",
   "execution_count": null,
   "metadata": {},
   "outputs": [],
   "source": [
    "import pickle\n",
    "\n",
    "# write python dict to a file\n",
    "mydict = {'a': 1, 'b': 2, 'c': 3}\n",
    "output = open('myfile.pkl', 'wb')\n",
    "pickle.dump(mydict, output)\n",
    "output.close()\n",
    "\n",
    "# read python dict back from the file\n",
    "pkl_file = open('myfile.pkl', 'rb')\n",
    "mydict2 = pickle.load(pkl_file)\n",
    "pkl_file.close()\n",
    "\n",
    "print mydict\n",
    "print mydict2\n"
   ]
  },
  {
   "cell_type": "code",
   "execution_count": null,
   "metadata": {},
   "outputs": [],
   "source": []
  }
 ],
 "metadata": {
  "kernelspec": {
   "display_name": "Python 2",
   "language": "python",
   "name": "python2"
  },
  "language_info": {
   "codemirror_mode": {
    "name": "ipython",
    "version": 2
   },
   "file_extension": ".py",
   "mimetype": "text/x-python",
   "name": "python",
   "nbconvert_exporter": "python",
   "pygments_lexer": "ipython2",
   "version": "2.7.16"
  }
 },
 "nbformat": 4,
 "nbformat_minor": 2
}
