{
 "cells": [
  {
   "cell_type": "code",
   "execution_count": 13,
   "metadata": {},
   "outputs": [],
   "source": [
    "import pickle\n",
    "\n"
   ]
  },
  {
   "cell_type": "code",
   "execution_count": 14,
   "metadata": {},
   "outputs": [],
   "source": [
    "def makedic2():\n",
    "    \n",
    "    getout=\"\"\n",
    "    \n",
    "\n",
    "    pkl_file = open('pricefile.pkl', 'rb')\n",
    "    prices = pickle.load(pkl_file)\n",
    "    pkl_file.close()\n",
    "\n",
    "    \n",
    "    \n",
    "    while getout!=\"q\" and getout!=\"Q\":\n",
    "        print getout\n",
    "        product=raw_input(\"M2222 Enter the product name  \")\n",
    "        \n",
    "        while True:\n",
    "            try:\n",
    "                price=float(raw_input(\"Enter the product price  \"))\n",
    "                break\n",
    "            except ValueError:\n",
    "                print (\"That was not a number\")\n",
    "            \n",
    "        \n",
    "        getout=raw_input(\"To quit you may wish to enter Q  \")\n",
    "        \n",
    "        prices.update({product:price})\n",
    "    \n",
    "    output = open('pricefile.pkl', 'wb')\n",
    "    pickle.dump(prices, output)\n",
    "    output.close()\n",
    "        \n",
    "    return prices"
   ]
  },
  {
   "cell_type": "code",
   "execution_count": 15,
   "metadata": {},
   "outputs": [],
   "source": [
    "def diclist(mylist):\n",
    "    print(type(mylist))\n",
    "    \n",
    "    for product in mylist:\n",
    "        #print(\"Product\")\n",
    "        #print(\"\")\n",
    "        print(product)"
   ]
  },
  {
   "cell_type": "code",
   "execution_count": 16,
   "metadata": {
    "scrolled": true
   },
   "outputs": [
    {
     "name": "stdout",
     "output_type": "stream",
     "text": [
      "\n",
      "M2222 Enter the product name  hjk\n",
      "Enter the product price  87\n",
      "To quit enter Q  q\n",
      "<type 'dict'>\n",
      "Sausage\n",
      "carrot\n",
      "fff\n",
      "hjk\n",
      "lime\n",
      "qqqq\n",
      "pp\n",
      "lemon\n",
      "peach\n",
      "cherry\n",
      "asdfg\n",
      "yam\n",
      "banana\n",
      "ddd\n",
      "ger\n",
      "aubergine\n",
      "cccc\n",
      "ggg\n",
      "wpo\n",
      "zxzx\n",
      "prunes\n",
      "asasas\n",
      "yhn\n",
      "a\n",
      "kkkk\n",
      "c\n",
      "b\n",
      "e\n",
      "d\n",
      "f\n",
      "plum\n",
      "oooo\n",
      "wewewew\n",
      "beans\n",
      "hello\n",
      "\n",
      "\n",
      "\n",
      "This is my Prices file \n",
      "\n"
     ]
    }
   ],
   "source": [
    "\n",
    "\n",
    "\n",
    "\n",
    "mydic=makedic2()\n",
    "\n",
    "diclist(mydic)\n",
    "\n",
    "print(\"\")\n",
    "print(\"\")\n",
    "print(\"\")\n",
    "print (\"This is my Prices file \")\n",
    "print(\"\")\n",
    "#print mydic\n",
    "\n",
    "\n",
    "\n"
   ]
  },
  {
   "cell_type": "code",
   "execution_count": 17,
   "metadata": {},
   "outputs": [
    {
     "ename": "TypeError",
     "evalue": "type() takes 1 or 3 arguments",
     "output_type": "error",
     "traceback": [
      "\u001b[0;31m\u001b[0m",
      "\u001b[0;31mTypeError\u001b[0mTraceback (most recent call last)",
      "\u001b[0;32m<ipython-input-17-ff6dcb82abed>\u001b[0m in \u001b[0;36m<module>\u001b[0;34m()\u001b[0m\n\u001b[0;32m----> 1\u001b[0;31m \u001b[0mtype\u001b[0m\u001b[0;34m(\u001b[0m\u001b[0;34m)\u001b[0m\u001b[0;34m\u001b[0m\u001b[0m\n\u001b[0m",
      "\u001b[0;31mTypeError\u001b[0m: type() takes 1 or 3 arguments"
     ]
    }
   ],
   "source": [
    "type()"
   ]
  },
  {
   "cell_type": "code",
   "execution_count": null,
   "metadata": {},
   "outputs": [],
   "source": []
  },
  {
   "cell_type": "code",
   "execution_count": null,
   "metadata": {},
   "outputs": [],
   "source": []
  }
 ],
 "metadata": {
  "kernelspec": {
   "display_name": "Python 2",
   "language": "python",
   "name": "python2"
  },
  "language_info": {
   "codemirror_mode": {
    "name": "ipython",
    "version": 2
   },
   "file_extension": ".py",
   "mimetype": "text/x-python",
   "name": "python",
   "nbconvert_exporter": "python",
   "pygments_lexer": "ipython2",
   "version": "2.7.16"
  }
 },
 "nbformat": 4,
 "nbformat_minor": 2
}
