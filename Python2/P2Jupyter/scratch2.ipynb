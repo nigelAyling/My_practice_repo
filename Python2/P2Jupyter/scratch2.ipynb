{
 "cells": [
  {
   "cell_type": "code",
   "execution_count": 29,
   "metadata": {},
   "outputs": [
    {
     "name": "stdout",
     "output_type": "stream",
     "text": [
      "t\n",
      "H\n",
      "i\n",
      "S\n",
      " \n",
      "I\n",
      "s\n",
      " \n",
      "a\n",
      "N\n",
      " \n",
      "E\n",
      "x\n",
      "A\n",
      "m\n",
      "P\n",
      "l\n",
      "E\n",
      " \n",
      "S\n",
      "t\n",
      "R\n",
      "i\n",
      "N\n",
      "g\n"
     ]
    }
   ],
   "source": [
    "# Create a function that outputs uppercase and lowercase characters \n",
    "# depending on if they are in an odd or even position in the array\n",
    "# 1. split the string into characterat position #\n",
    "# 2. use logic to determin if the item is in an odd/even postion #\n",
    "# 3. get the uppercase or lowercase character\n",
    "\n",
    "pauls_example_string = 'this Is an EXample string'\n",
    "\n",
    "def alternate_case(string):\n",
    "    toggle = True\n",
    "    for item in string:\n",
    "        if toggle == True:\n",
    "            toggle = not toggle\n",
    "            print ( item.lower())\n",
    "        else:\n",
    "            toggle = not toggle\n",
    "            print ( item.upper())\n",
    "        \n",
    "        \n",
    "alternate_case(pauls_example_string)\n",
    "\n"
   ]
  },
  {
   "cell_type": "code",
   "execution_count": null,
   "metadata": {},
   "outputs": [],
   "source": []
  },
  {
   "cell_type": "code",
   "execution_count": null,
   "metadata": {},
   "outputs": [],
   "source": []
  }
 ],
 "metadata": {
  "kernelspec": {
   "display_name": "Python 2",
   "language": "python",
   "name": "python2"
  },
  "language_info": {
   "codemirror_mode": {
    "name": "ipython",
    "version": 2
   },
   "file_extension": ".py",
   "mimetype": "text/x-python",
   "name": "python",
   "nbconvert_exporter": "python",
   "pygments_lexer": "ipython2",
   "version": "2.7.16"
  }
 },
 "nbformat": 4,
 "nbformat_minor": 2
}
