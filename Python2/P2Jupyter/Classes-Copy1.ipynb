{
 "cells": [
  {
   "cell_type": "code",
   "execution_count": 4,
   "metadata": {},
   "outputs": [
    {
     "name": "stdout",
     "output_type": "stream",
     "text": [
      "aleola\n",
      "3.5\n",
      "10\n"
     ]
    }
   ],
   "source": [
    "\n",
    "class Product:\n",
    "    def set_description(self, desc):\n",
    "        self.description = desc        \n",
    "    def get_description(self):\n",
    "        return self.description\n",
    "    \n",
    "    def set_price(self,price):\n",
    "        self.__price = price\n",
    "    def get_price(self):\n",
    "        return self.__price\n",
    "    \n",
    "    def set_inventory(self, inventory):\n",
    "        self.__inventory = inventory\n",
    "    def get_inventory(self):\n",
    "        return self.__inventory\n",
    "    \n",
    "    \n",
    "prod1=Product()\n",
    "prod1.set_description (\"aleola\")\n",
    "prod1.set_price (3.5)\n",
    "prod1.set_inventory (10)\n",
    "\n",
    "print(prod1.get_description())\n",
    "print(prod1.get_price())\n",
    "print(prod1.get_inventory())"
   ]
  },
  {
   "cell_type": "code",
   "execution_count": 1,
   "metadata": {},
   "outputs": [],
   "source": [
    "#"
   ]
  },
  {
   "cell_type": "code",
   "execution_count": null,
   "metadata": {},
   "outputs": [],
   "source": []
  }
 ],
 "metadata": {
  "kernelspec": {
   "display_name": "Python 2",
   "language": "python",
   "name": "python2"
  },
  "language_info": {
   "codemirror_mode": {
    "name": "ipython",
    "version": 2
   },
   "file_extension": ".py",
   "mimetype": "text/x-python",
   "name": "python",
   "nbconvert_exporter": "python",
   "pygments_lexer": "ipython2",
   "version": "2.7.16"
  }
 },
 "nbformat": 4,
 "nbformat_minor": 2
}
