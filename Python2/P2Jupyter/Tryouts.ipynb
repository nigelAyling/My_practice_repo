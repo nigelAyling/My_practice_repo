{
 "cells": [
  {
   "cell_type": "code",
   "execution_count": null,
   "metadata": {},
   "outputs": [],
   "source": [
    "# Tryout 1\n",
    "\n",
    "#This code inputs two numbers, one as string and one as an integer. It uses a while loop and exception handling\n",
    "#to cope with non numeric inputs for number2\n",
    "\n",
    "number1=raw_input(\"Input number1 = \")\n",
    "\n",
    "while True:\n",
    "    try:\n",
    "        number2=int(raw_input(\"Input number2 = \"))\n",
    "        print(\"All is fine\")\n",
    "        break\n",
    "    \n",
    "    except ValueError:\n",
    "        print (\"That was not a number\")\n",
    "    \n",
    "print (type (number1))\n",
    "print (number1)\n",
    "\n",
    "print (type (number2))\n",
    "print (number2)"
   ]
  },
  {
   "cell_type": "code",
   "execution_count": null,
   "metadata": {},
   "outputs": [],
   "source": []
  },
  {
   "cell_type": "code",
   "execution_count": null,
   "metadata": {},
   "outputs": [],
   "source": []
  }
 ],
 "metadata": {
  "kernelspec": {
   "display_name": "Python 2",
   "language": "python",
   "name": "python2"
  },
  "language_info": {
   "codemirror_mode": {
    "name": "ipython",
    "version": 2
   },
   "file_extension": ".py",
   "mimetype": "text/x-python",
   "name": "python",
   "nbconvert_exporter": "python",
   "pygments_lexer": "ipython2",
   "version": "2.7.16"
  }
 },
 "nbformat": 4,
 "nbformat_minor": 2
}
