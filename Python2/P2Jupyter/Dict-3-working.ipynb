{
 "cells": [
  {
   "cell_type": "code",
   "execution_count": 1,
   "metadata": {},
   "outputs": [],
   "source": [
    "import pickle\n",
    "\n",
    "pricelist={}"
   ]
  },
  {
   "cell_type": "code",
   "execution_count": 2,
   "metadata": {},
   "outputs": [],
   "source": [
    "def makedic2():\n",
    "    \n",
    "    getout=\"\"\n",
    "    \n",
    "\n",
    "    pkl_file = open('pricefile.pkl', 'rb')\n",
    "    prices = pickle.load(pkl_file)\n",
    "    pkl_file.close()\n",
    "\n",
    "    \n",
    "    \n",
    "    while getout!=\"q\" and getout!=\"Q\":\n",
    "        print getout\n",
    "        product=raw_input(\"M2222 Enter the product name  \")\n",
    "        \n",
    "        while True:\n",
    "            try:\n",
    "                price=float(raw_input(\"Enter the product price  \"))\n",
    "                break\n",
    "            except ValueError:\n",
    "                print (\"That was not a number\")\n",
    "            \n",
    "        \n",
    "        getout=raw_input(\"To quit enter Q  \")\n",
    "        \n",
    "        prices.update({product:price})\n",
    "    \n",
    "    output = open('pricefile.pkl', 'wb')\n",
    "    pickle.dump(prices, output)\n",
    "    output.close()\n",
    "        \n",
    "    return prices"
   ]
  },
  {
   "cell_type": "code",
   "execution_count": 3,
   "metadata": {
    "scrolled": true
   },
   "outputs": [
    {
     "name": "stdout",
     "output_type": "stream",
     "text": [
      "{}\n",
      "\n",
      "M2222 Enter the product name  Sausage\n",
      "Enter the product price  12\n",
      "To quit enter Q  q\n",
      "This is my dictionary \n",
      "{'a': 1.0, 'c': 3.0, 'b': 2.0, 'e': 5.0, 'd': 4.0, 'peach': 98.0, 'f': 6.0, 'cherry': 21.0, 'plum': 3.3, 'carrot': 8.4, 'Sausage': 12.0, 'banana': 7.6, 'yam': 6.0, 'aubergine': 12.3, 'beans': 4.45, 'prunes': 6.8, 'lemon': 2.2, 'hello': 2000.0, 'lime': 33.0}\n",
      "This is pricelist\n",
      "{}\n"
     ]
    }
   ],
   "source": [
    "\n",
    "\n",
    "plist=pricelist\n",
    "print (plist)\n",
    "\n",
    "mydic=makedic2()\n",
    "\n",
    "\n",
    "print (\"This is my dictionary \")\n",
    "print mydic\n",
    "print (\"This is pricelist\")\n",
    "print pricelist"
   ]
  },
  {
   "cell_type": "code",
   "execution_count": null,
   "metadata": {},
   "outputs": [],
   "source": [
    "\n"
   ]
  },
  {
   "cell_type": "code",
   "execution_count": null,
   "metadata": {},
   "outputs": [],
   "source": []
  }
 ],
 "metadata": {
  "kernelspec": {
   "display_name": "Python 2",
   "language": "python",
   "name": "python2"
  },
  "language_info": {
   "codemirror_mode": {
    "name": "ipython",
    "version": 2
   },
   "file_extension": ".py",
   "mimetype": "text/x-python",
   "name": "python",
   "nbconvert_exporter": "python",
   "pygments_lexer": "ipython2",
   "version": "2.7.16"
  }
 },
 "nbformat": 4,
 "nbformat_minor": 2
}
